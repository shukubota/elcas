{
 "cells": [
  {
   "cell_type": "code",
   "execution_count": 18,
   "metadata": {
    "collapsed": true
   },
   "outputs": [],
   "source": [
    "# ~ 最初に唱えるおまじない ~ \n",
    "#  packagesのimport\n",
    "\n",
    "import numpy as np\n",
    "import matplotlib.pyplot as plt\n",
    "from numpy.random import *\n",
    "\n",
    "% matplotlib inline"
   ]
  },
  {
   "cell_type": "code",
   "execution_count": 19,
   "metadata": {},
   "outputs": [
    {
     "data": {
      "image/png": "[encoded data removed]",
      "text/plain": [
       "<matplotlib.figure.Figure at 0x1142b4cf8>"
      ]
     },
     "metadata": {},
     "output_type": "display_data"
    },
    {
     "data": {
      "image/png": "[encoded data removed]",
      "text/plain": [
       "<matplotlib.figure.Figure at 0x1142a9198>"
      ]
     },
     "metadata": {},
     "output_type": "display_data"
    }
   ],
   "source": [
    "#テスト関数　:指数関数と対数グラフの理解のため(シミュレーションに直接関係なし)\n",
    "def testfunc(x):\n",
    "    '''\n",
    "    testfunc(x)\n",
    "    xの(指数)関数\n",
    "    '''\n",
    "    y=x**3 #pow(a,b)=aのb乗    #指数部分を色々変えてみる! 例えばx**4やx**(-1)\n",
    "    return y\n",
    "    \n",
    "\n",
    "def test():\n",
    "    x=np.arange(0.1,1,0.01)\n",
    "    y=testfunc(x)\n",
    "    plt.plot(x,y,label=\"y=testfunc(x)\")\n",
    "    plt.xlabel(\"x\")\n",
    "    plt.ylabel(\"y\")\n",
    "    plt.title(\"Lenear Graph\")\n",
    "    plt.legend()\n",
    "    plt.show()\n",
    "    \n",
    "    \n",
    "    \n",
    "    plt.plot(x,y,label=\"y=testfunc(x)\")\n",
    "    plt.xlabel(\"x\")\n",
    "    plt.ylabel(\"y\")\n",
    "    plt.title(\"Log-Log Graph\")\n",
    "    plt.xscale(\"log\")\n",
    "    plt.yscale(\"log\")\n",
    "    plt.legend()\n",
    "    plt.show()\n",
    "    \n",
    "test()"
   ]
  },
  {
   "cell_type": "code",
   "execution_count": 20,
   "metadata": {
    "collapsed": true
   },
   "outputs": [],
   "source": [
    "# 色々計算してくれる関数達\n",
    "# 講義で学んだ内容と比較してみよう！\n",
    "\n",
    "def calc(nw,m,func): \n",
    "    '''\n",
    "    calc(nw,m,func)\n",
    "    ネットワークnwにm本のlinkを持つnodeを1個追加する関数\n",
    "    \n",
    "    parameters\n",
    "    --------\n",
    "    nw : list\n",
    "      隣接リスト:[(node1に繋がっているnodeからなるlist), (node2に繋がっているnodeからなるlist),...]\n",
    "    m : int\n",
    "      新たに追加されるnodeが持っているedgeの個数\n",
    "    func : function\n",
    "      毎回のnode追加時に, linkの接続先nodeを決める確率の関数を定義する\n",
    "    '''\n",
    "    \n",
    "    N=len(nw) # node数\n",
    "    degrees = np.array([len(n) for n in nw]) # 各nodeの次数\n",
    "    \n",
    "    #各nodeに対するlinkする確率の, array(listのようなもの)を作成\n",
    "    if isinstance(func(degrees),float) or isinstance(func(degrees),int):\n",
    "        plist = np.ones(np.size(degrees))*func(degrees)\n",
    "    else:\n",
    "        plist = func(degrees)\n",
    "    plist = plist/plist.sum()\n",
    "    \n",
    "    #linkを追加するnodeのindex番号を決める\n",
    "    index=choice(range(0,N),m,replace=False,p=plist)\n",
    "    \n",
    "    #ネットワークに新しいnodeを1個追加する\n",
    "    for i in index:\n",
    "        nw[i].append(N)\n",
    "    nw.append(sorted(list(index)))\n",
    "    \n",
    "def dist(nw,m): \n",
    "    '''\n",
    "    dist(nw,m)\n",
    "    ネットワーク配列nwから次数分布の配列を作る関数\n",
    "        \n",
    "    parameter\n",
    "    --------\n",
    "    nw : list\n",
    "      隣接リスト:[(node1に繋がっているnodeからなるlist), (node2に繋がっているnodeからなるlist),...]\n",
    "    m : int\n",
    "      新たに追加されるnodeが持っているedgeの個数\n",
    "    '''\n",
    "    degrees = [len(n) for n in nw] # 各nodeの次数\n",
    "    \n",
    "    x = np.arange(min(degrees),max(degrees)+1,dtype=np.int64) # x軸：次数\n",
    "    y = np.array([degrees.count(degree) for degree in x]) # y軸：頻度\n",
    "    y=y/y.sum() # 規格化\n",
    "\n",
    "    y2=theofunc(m,x)\n",
    "    \n",
    "    np.savetxt(\"x.dat\",x) # x.npyには次数の列が入っている\n",
    "    np.savetxt(\"y.dat\",y) # y.npyには数値シミュレーションした各次数の頻度が入っている\n",
    "    np.savetxt(\"y2.dat\",y2) # y2.npyには理論値の各次数の頻度が入っている\n",
    "\n",
    "def comgra(m): #\n",
    "    '''\n",
    "    comgra(m)\n",
    "    次数mの完全グラフを作る関数\n",
    "    \n",
    "    parameter\n",
    "    --------\n",
    "    m : int\n",
    "      完全グラフの次数\n",
    "    '''\n",
    "    nw=[[j for j in range(m) if i != j ] for i in range(m)]\n",
    "    return nw"
   ]
  },
  {
   "cell_type": "code",
   "execution_count": 21,
   "metadata": {
    "collapsed": true
   },
   "outputs": [],
   "source": [
    "# 理論値：自分で計算した結果をプログラムにしてみよう！\n",
    "# 講義で扱ったモデル(BAモデル)の場合のみに対応しています.\n",
    "def theofunc(m,x):\n",
    "    '''\n",
    "    theofunc(m,x)\n",
    "    次数分布の理論値\n",
    "    \n",
    "    parameters\n",
    "    --------\n",
    "    m : int \n",
    "      新たに付け加わるnodeが持つ枝の本数\n",
    "    x : int or real\n",
    "      次数\n",
    "    '''\n",
    "    func=2.*m*(m+1)/(x*(x+1)*(x+2))   # <======== 手で計算した理論値の関数を入れてみよう！\n",
    "    return func"
   ]
  },
  {
   "cell_type": "code",
   "execution_count": 22,
   "metadata": {},
   "outputs": [
    {
     "name": "stdout",
     "output_type": "stream",
     "text": [
      "CPU times: user 20.7 ms, sys: 2.83 ms, total: 23.5 ms\n",
      "Wall time: 22.4 ms\n"
     ]
    }
   ],
   "source": [
    "%%time\n",
    "\n",
    "#########################################\n",
    "#シミュレーションの設定(次数mの完全グラフを初期状態にとる)\n",
    "#########################################\n",
    "\n",
    "# パラメータ　： ここを変えてみて結果がどう変わるか見てみよう！\n",
    "m=4 # 追加するnodeの持つlinkの本数 \n",
    "Nmax=100 # 追加するnodeの個数\n",
    "\n",
    "#毎回のnode追加時に, linkの接続先nodeを決める確率の関数を定義する\n",
    "#分子の値だけを書いておけばok!\n",
    "def q(k):\n",
    "    q = k      #接続先の次数kに比例する場合 講義で扱ったモデル(BAモデル)の場合はこれ\n",
    "    #q = 1   #接続先の次数kに依らず一様確率で接続する場合はこれ\n",
    "    #q = ??     #自分で関数形を決めてみよう！\n",
    "    return q\n",
    "\n",
    "\n",
    "######################\n",
    "#ネットワークを生成し, 成長させる\n",
    "######################\n",
    "# 初期状態を生成する\n",
    "# node数mの完全グラフを作成\n",
    "nw=comgra(m)\n",
    "\n",
    "# Nmax回m本の枝を持つnodeを追加する\n",
    "for j in range(0,Nmax):\n",
    "    # 関数calcでネットワークnwにnodeを追加していく\n",
    "    calc(nw,m,q)\n",
    "\n",
    "np.save('nwdata.npy',nw)\n",
    "\n",
    "############\n",
    "#分布を計算する\n",
    "############\n",
    "dist(nw,m)\n",
    "# x.npyには次数の列が入っている\n",
    "# y.npyには数値シミュレーションした各次数の頻度が入っている\n",
    "# y2.npyには理論値の各次数の頻度が入っている"
   ]
  },
  {
   "cell_type": "code",
   "execution_count": 23,
   "metadata": {},
   "outputs": [
    {
     "data": {
      "image/png": "[encoded data removed]",
      "text/plain": [
       "<matplotlib.figure.Figure at 0x115089d68>"
      ]
     },
     "metadata": {},
     "output_type": "display_data"
    }
   ],
   "source": [
    "####################\n",
    "#べき分布をplotしてみよう！\n",
    "####################\n",
    "\n",
    "# シミュレーション結果\n",
    "x= np.loadtxt(\"x.dat\")# x.npyには次数の列が入っている\n",
    "y= np.loadtxt(\"y.dat\")# y.npyには数値シミュレーションした各次数の頻度が入っている\n",
    "\n",
    "plt.plot(x,y,\"ro\",label=\"simulation\") # シミュレーション結果のplot \n",
    "\n",
    "# 理論値 (表示したくない場合は行頭に#を付ければ無視されます...´･_･`)\n",
    "y2=np.loadtxt(\"y2.dat\")# y2.npyには理論値の各次数の頻度が入っている\n",
    "plt.plot(x,y2,\"b-\",label=\"theory\")\n",
    "\n",
    "# 表示に関するオプション\n",
    "plt.xlabel(r\"degree $k$\")\n",
    "plt.ylabel(r\"frequency $P(k)$\")\n",
    "plt.xlim([1,x[y>0].max()]) # x軸の表示範囲 (1から最大次数まで)\n",
    "plt.ylim([1/Nmax,y.max()]) # y軸の表示範囲\n",
    "plt.xscale(\"log\")\n",
    "plt.yscale(\"log\")\n",
    "plt.legend()\n",
    "\n",
    "plt.show() # 表示！！\n",
    "#plt.savefig(\"degree_dist.png\")\n",
    "#plt.clf()"
   ]
  },
  {
   "cell_type": "code",
   "execution_count": 24,
   "metadata": {},
   "outputs": [],
   "source": [
    "############################################################\n",
    "#上のcellの出力のグラフが直線でない場合, 次数分布P(k)がべき分布でないことが原因と考えられる.\n",
    "#次数分布P(k)が他の形の場合にも, 見やすくなる形でグラフをplotしてみよう！\n",
    "############################################################\n",
    "from src_elcas.src0h import * #これはおまじないです.\n",
    "\n",
    "# シミュレーション結果\n",
    "x= np.loadtxt(\"x.dat\")\n",
    "y= np.loadtxt(\"y.dat\")\n",
    "\n",
    "#グラフのプロット\n",
    "graph_style=\"normal\"     # 通常のグラフです.\n",
    "#graph_style=\"ylog\"     # y軸がlogとなる片対数グラフです.\n",
    "#graph_style=\"xlog-ylog\"     #両軸がlog となる両対数グラフです.\n",
    "#graph_style=\"xlog-yloglog\"     #x軸はlog, y軸はY=log(-(log(y)))です.\n",
    "#plot_simulated_data(x,y,graph_style)"
   ]
  },
  {
   "cell_type": "code",
   "execution_count": 25,
   "metadata": {
    "scrolled": false
   },
   "outputs": [
    {
     "name": "stdout",
     "output_type": "stream",
     "text": [
      "Computed results are below:\n",
      "  gamma = 3.00866762285\n",
      "  y-segment = 1.60327445604\n"
     ]
    },
    {
     "data": {
      "image/png": "[encoded data removed]",
      "text/plain": [
       "<matplotlib.figure.Figure at 0x1148e0940>"
      ]
     },
     "metadata": {},
     "output_type": "display_data"
    }
   ],
   "source": [
    "####################################################################\n",
    "#gammaを求めてみよう！\n",
    "#このcellでは以下のことが可能です\n",
    "#(1) 数値計算によって得られたγ(ガンマ)などの値を出力します\n",
    "#(2) 入力したγとy-切片の値を, グラフに上から描画し, シミュレーション結果とフィッテイング直線との一致を確かめることができます.\n",
    "#注意: 次数分布P(k)がべき分布と異なる場合, まともな挙動をしません.\n",
    "####################################################################\n",
    "from src_elcas.src1i import * #これはおまじないです.\n",
    "\n",
    "gamma=0\n",
    "segment=0\n",
    "plot_graph(gamma,segment,Nmax,show_estimation_line=False) #求めた傾きと切片からなる直線をグラフに出力しない場合はFalse, する場合はTrue."
   ]
  }
 ],
 "metadata": {
  "kernelspec": {
   "display_name": "Python 3",
   "language": "python",
   "name": "python3"
  },
  "language_info": {
   "codemirror_mode": {
    "name": "ipython",
    "version": 3
   },
   "file_extension": ".py",
   "mimetype": "text/x-python",
   "name": "python",
   "nbconvert_exporter": "python",
   "pygments_lexer": "ipython3",
   "version": "3.6.2"
  }
 },
 "nbformat": 4,
 "nbformat_minor": 1
}
