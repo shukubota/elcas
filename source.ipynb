{
 "cells": [
  {
   "cell_type": "code",
   "execution_count": 164,
   "metadata": {
    "collapsed": true
   },
   "outputs": [],
   "source": [
    "# ~ 最初に唱えるおまじない ~ \n",
    "#  packagesのimport\n",
    "\n",
    "import numpy as np\n",
    "import matplotlib.pyplot as plt\n",
    "from numpy.random import *\n",
    "% matplotlib inline"
   ]
  },
  {
   "cell_type": "code",
   "execution_count": 165,
   "metadata": {},
   "outputs": [
    {
     "data": {
      "image/png": "iVBORw0KGgoAAAANSUhEUgAAAYUAAAEWCAYAAACJ0YulAAAABHNCSVQICAgIfAhkiAAAAAlwSFlz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\nUBARkUoKBRERqaRQEBGRSv8fXz1D+MbynOwAAAAASUVORK5CYII=\n",
      "text/plain": [
<<<<<<< HEAD
       "<matplotlib.figure.Figure at 0x10c02c160>"
=======
       "<matplotlib.figure.Figure at 0x11295dc18>"
>>>>>>> graph_plot_horinouchi
      ]
     },
     "metadata": {},
     "output_type": "display_data"
    },
    {
     "data": {
      "image/png": "iVBORw0KGgoAAAANSUhEUgAAAY4AAAEaCAYAAAAG87ApAAAABHNCSVQICAgIfAhkiAAAAAlwSFlz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\nQmCC\n",
      "text/plain": [
<<<<<<< HEAD
       "<matplotlib.figure.Figure at 0x1112eb160>"
=======
       "<matplotlib.figure.Figure at 0x1116bac88>"
>>>>>>> graph_plot_horinouchi
      ]
     },
     "metadata": {},
     "output_type": "display_data"
    }
   ],
   "source": [
    "#テスト関数　:指数関数と対数グラフの理解のため(シミュレーションに直接関係なし)\n",
    "def testfunc(x):\n",
    "    '''\n",
    "    testfunc(x)\n",
    "    xの(指数)関数\n",
    "    '''\n",
    "    y=x**3    #指数部分を色々変えてみる! 例えばx**4やx**(-1)\n",
    "    return y\n",
    "    \n",
    "\n",
    "def test():\n",
    "    x=np.arange(0.1,1,0.01)\n",
    "    y=testfunc(x)\n",
    "    plt.plot(x,y,label=\"y=testfunc(x)\")\n",
    "    plt.xlabel(\"x\")\n",
    "    plt.ylabel(\"y\")\n",
    "    plt.title(\"Linear Graph\")\n",
    "    plt.legend()\n",
    "    plt.show()\n",
    "    \n",
    "    \n",
    "    \n",
    "    plt.plot(x,y,label=\"y=testfunc(x)\")\n",
    "    plt.xlabel(\"x\")\n",
    "    plt.ylabel(\"y\")\n",
    "    plt.title(\"Log-Log Graph\")\n",
    "    plt.xscale(\"log\")\n",
    "    plt.yscale(\"log\")\n",
    "    plt.legend()\n",
    "    plt.show()\n",
    "    \n",
    "test()"
   ]
  },
  {
   "cell_type": "code",
   "execution_count": 166,
   "metadata": {
    "collapsed": true
   },
   "outputs": [],
   "source": [
    "# 色々計算してくれる関数達\n",
    "# 講義で学んだ内容と比較してみよう！\n",
    "\n",
    "def calc(nw,a,m,type=1): \n",
    "    '''\n",
    "    calc(calc,a,m,type=1)\n",
    "    ネットワークnwにm本のlinkを持つnodeを1個追加する関数\n",
    "    \n",
    "    parameters\n",
    "    --------\n",
    "    nw : list\n",
    "      隣接リスト:[(node1に繋がっているnodeからなるlist), (node2に繋がっているnodeからなるlist),...]\n",
    "    a : real\n",
    "      枝をつけ加える確率に対するbias\n",
    "    m : int\n",
    "      新たに追加されるnodeが持っているedgeの個数\n",
    "    type : int\n",
    "      type = 1 -> 重み付け確率\n",
    "      type = 2 -> 一様確率\n",
    "    '''\n",
    "    \n",
    "    N=len(nw) # node数\n",
    "    degrees = np.array([len(n) for n in nw]) # 各nodeの次数\n",
    "    K=degrees.sum()  # (biasも考慮に入れた)linkの本数(重複あり)\n",
    "    \n",
    "    #重み付け確率を決める\n",
    "    if type==1:\n",
    "        plist = (degrees + a) / (float(K) + N*a)\n",
    "    elif type ==2:\n",
    "        plist = np.ones(N) / N\n",
    "    else:\n",
    "        print(\"Error! : type\",type,\"undefined!\")\n",
    "        raise ValueError \n",
    "    \n",
    "    #linkを追加するnodeのindex番号を決める\n",
    "    index=choice(range(0,N),m,replace=False,p=plist)\n",
    "    \n",
    "    #ネットワークに新しいnodeを1個追加する\n",
    "    for i in index:\n",
    "        nw[i].append(N)\n",
    "    nw.append(sorted(list(index)))\n",
    "    \n",
    "def dist(nw,m): \n",
    "    '''\n",
    "    dist(nw)\n",
    "    ネットワーク配列nwから次数分布の配列を作る関数\n",
    "        \n",
    "    parameter\n",
    "    --------\n",
    "    nw : list\n",
    "      隣接リスト:[(node1に繋がっているnodeからなるlist), (node2に繋がっているnodeからなるlist),...]\n",
    "    m : int\n",
    "      新たに追加されるnodeが持っているedgeの個数\n",
    "    '''\n",
    "    degrees = [len(n) for n in nw] # 各nodeの次数\n",
    "    \n",
    "    x = np.arange(min(degrees),max(degrees)+1,dtype=np.int64) # x軸：次数\n",
    "    y = np.array([degrees.count(degree) for degree in x]) # y軸：頻度\n",
    "    y=y/y.sum() # 規格化\n",
    "\n",
    "    y2=theofunc(m,a,x)\n",
    "    \n",
    "    np.savetxt(\"x.dat\",x) # x.npyには次数の列が入っている\n",
    "    np.savetxt(\"y.dat\",y) # y.npyには数値シミュレーションした各次数の頻度が入っている\n",
    "    np.savetxt(\"y2.dat\",y2) # y2.npyには理論値の各次数の頻度が入っている\n",
    "\n",
    "def comgra(m): #\n",
    "    '''\n",
    "    comgra(m)\n",
    "    次数mの完全グラフを作る関数\n",
    "    \n",
    "    parameter\n",
    "    --------\n",
    "    m : int\n",
    "      完全グラフの次数\n",
    "    '''\n",
    "    nw=[[j for j in range(m) if i != j ] for i in range(m)]\n",
    "    return nw"
   ]
  },
  {
   "cell_type": "code",
   "execution_count": 167,
   "metadata": {
    "collapsed": true
   },
   "outputs": [],
   "source": [
    "# 理論値：自分で計算した結果をプログラムにしてみよう！\n",
    "def theofunc(m,a,x):\n",
    "    '''\n",
    "    theofunc(m,a,x)\n",
    "    次数分布の理論値\n",
    "    \n",
    "    parameters\n",
    "    --------\n",
    "    m : int \n",
    "      新たに付け加わるnodeが持つ枝の本数\n",
    "    a : real\n",
    "      重み確率に対するbias\n",
    "    x : int or real\n",
    "      次数\n",
    "    '''\n",
    "    func=2.*m*(m+1)/(x*(x+1)*(x+2))   # <======== 手で計算した理論値の関数を入れてみよう！\n",
    "    return func"
   ]
  },
  {
   "cell_type": "code",
   "execution_count": 168,
   "metadata": {},
   "outputs": [
    {
     "name": "stdout",
     "output_type": "stream",
     "text": [
<<<<<<< HEAD
      "CPU times: user 27.1 ms, sys: 6.38 ms, total: 33.5 ms\n",
      "Wall time: 32.1 ms\n"
=======
      "CPU times: user 24.4 ms, sys: 4.4 ms, total: 28.8 ms\n",
      "Wall time: 26.3 ms\n"
>>>>>>> graph_plot_horinouchi
     ]
    }
   ],
   "source": [
    "%%time\n",
    "\n",
    "#########################################\n",
    "#シミュレーションの設定(次数mの完全グラフを初期状態にとる)\n",
    "#########################################\n",
    "\n",
    "# パラメータ　： ここを変えてみて結果がどう変わるか見てみよう！\n",
    "m=4 # 追加するnodeの持つlinkの本数 \n",
    "Nmax=100 # 追加するnodeの個数\n",
    "a=0. # 重み付け確率を計算する時のパラメータ\n",
    "\n",
    "# 初期状態を生成する\n",
    "# node数mの完全グラフを作成\n",
    "nw=comgra(m)\n",
    "\n",
    "#################\n",
    "#ネットワークを成長させる\n",
    "#################\n",
    "# Nmax回m本の枝を持つnodeを追加する\n",
    "for j in range(0,Nmax):\n",
    "    # 関数calcでネットワークnwにnodeを追加していく\n",
    "    # 3個目の引数(重み付け確率でシミュレーション:type=1,一様確率でシミュレーション:type=2)\n",
    "    calc(nw,a,m,type=1) # typeの値を変えてみよう！\n",
    "\n",
    "np.save('nwdata.npy',nw)\n",
    "\n",
    "############\n",
    "#分布を計算する\n",
    "############\n",
    "dist(nw,m)\n",
    "# x.npyには次数の列が入っている\n",
    "# y.npyには数値シミュレーションした各次数の頻度が入っている\n",
    "# y2.npyには理論値の各次数の頻度が入っている"
   ]
  },
  {
   "cell_type": "code",
   "execution_count": 169,
   "metadata": {},
   "outputs": [
    {
     "data": {
<<<<<<< HEAD
      "image/png": "iVBORw0KGgoAAAANSUhEUgAAAZIAAAESCAYAAADXMlMiAAAABHNCSVQICAgIfAhkiAAAAAlwSFlz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\n",
      "text/plain": [
       "<matplotlib.figure.Figure at 0x1114b6b00>"
=======
      "image/png": "iVBORw0KGgoAAAANSUhEUgAAAZIAAAESCAYAAADXMlMiAAAABHNCSVQICAgIfAhkiAAAAAlwSFlz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\nMgAAAABJRU5ErkJggg==\n",
      "text/plain": [
       "<matplotlib.figure.Figure at 0x1110bea90>"
>>>>>>> graph_plot_horinouchi
      ]
     },
     "metadata": {},
     "output_type": "display_data"
    }
   ],
   "source": [
    "####################\n",
    "#べき分布をplotしてみよう！\n",
    "####################\n",
    "\n",
    "# シミュレーション結果\n",
    "x= np.loadtxt(\"x.dat\")# x.npyには次数の列が入っている\n",
    "y= np.loadtxt(\"y.dat\")# y.npyには数値シミュレーションした各次数の頻度が入っている\n",
    "\n",
    "plt.plot(x,y,\"ro\",label=\"simulation\") # シミュレーション結果のplot \n",
    "\n",
    "# 理論値 (表示したくない場合は行頭に#を付ければ無視されます...´･_･`)\n",
    "y2=np.loadtxt(\"y2.dat\")# y2.npyには理論値の各次数の頻度が入っている\n",
    "plt.plot(x,y2,\"b-\",label=\"theory\")\n",
    "\n",
    "# 表示に関するオプション\n",
    "plt.xlabel(r\"degree $k$\")\n",
    "plt.ylabel(r\"frequency $P(k)$\")\n",
    "plt.xlim([1,x[y>0].max()]) # x軸の表示範囲 (1から最大次数まで)\n",
    "plt.ylim([1/Nmax,y.max()]) # y軸の表示範囲\n",
    "plt.xscale(\"log\")\n",
    "plt.yscale(\"log\")\n",
    "plt.legend()\n",
    "\n",
    "plt.show() # 表示！！\n",
    "#plt.savefig(\"degree_dist.png\")\n",
    "#plt.clf()"
   ]
  },
  {
   "cell_type": "code",
   "execution_count": 170,
   "metadata": {},
   "outputs": [],
   "source": [
    "############################################################\n",
    "#上のcellの出力のグラフが直線でない場合, 次数分布P(k)がべき分布でないことが原因と考えられる.\n",
    "#次数分布P(k)が他の形の場合にも, 見やすくなる形でグラフをplotしてみよう！\n",
    "############################################################\n",
    "from src_elcas.src0h import * #これはおまじないです.\n",
    "\n",
    "# シミュレーション結果\n",
    "x= np.loadtxt(\"x.dat\")\n",
    "y= np.loadtxt(\"y.dat\")\n",
    "\n",
    "#グラフのプロット\n",
    "graph_style=\"normal\"     # 通常のグラフです.\n",
    "#graph_style=\"ylog\"     # y軸がlogとなる片対数グラフです.\n",
    "#graph_style=\"xlog-ylog\"     #両軸がlog となる両対数グラフです.\n",
    "#graph_style=\"xlog-yloglog\"     #x軸はlog, y軸はY=log(-(log(y)))です.\n",
    "#plot_simulated_data(x,y,graph_style)"
   ]
  },
  {
   "cell_type": "code",
   "execution_count": 171,
   "metadata": {
    "scrolled": false
   },
   "outputs": [
    {
     "name": "stdout",
     "output_type": "stream",
     "text": [
      "Computed results are below:\n",
      "  gamma = 3.16938340487\n",
      "  y-segment = 1.80774014793\n"
     ]
    },
    {
     "data": {
      "image/png": "iVBORw0KGgoAAAANSUhEUgAAAZIAAAEOCAYAAACjJpHCAAAABHNCSVQICAgIfAhkiAAAAAlwSFlz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\n",
      "text/plain": [
       "<matplotlib.figure.Figure at 0x104330320>"
      ]
     },
     "metadata": {},
     "output_type": "display_data"
    }
   ],
   "source": [
    "####################################################################\n",
    "#gammaを求めてみよう！\n",
    "#このcellでは以下のことが可能です\n",
    "#(1) 数値計算によって得られたγ(ガンマ)などの値を出力します\n",
    "#(2) 入力したγとy-切片の値を, グラフに上から描画し, シミュレーション結果とフィッテイング直線との一致を確かめることができます.\n",
    "#注意: 次数分布P(k)がべき分布と異なる場合, まともな挙動をしません.\n",
    "####################################################################\n",
    "from src_elcas.src1i import * #これはおまじないです.\n",
    "\n",
    "gamma=0\n",
    "segment=0\n",
    "plot_graph(gamma,segment,Nmax,show_estimation_line=False) #求めた傾きと切片からなる直線をグラフに出力しない場合はFalse, する場合はTrue."
   ]
  }
 ],
 "metadata": {
  "kernelspec": {
   "display_name": "Python 3",
   "language": "python",
   "name": "python3"
  },
  "language_info": {
   "codemirror_mode": {
    "name": "ipython",
    "version": 3
   },
   "file_extension": ".py",
   "mimetype": "text/x-python",
   "name": "python",
   "nbconvert_exporter": "python",
   "pygments_lexer": "ipython3",
   "version": "3.6.2"
  }
 },
 "nbformat": 4,
 "nbformat_minor": 1
}
