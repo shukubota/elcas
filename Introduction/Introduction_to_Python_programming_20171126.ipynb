{
 "cells": [
  {
   "cell_type": "markdown",
   "metadata": {},
   "source": [
    "# Python 入門の入門\n",
    "\n",
    "Python とは反復処理や条件分岐処理などにより問題を解決するコンピュータに対する命令（処理）を記したプログラムを記述する言語の１つ．\n",
    "\n",
    "特にそれはインタプリタ上で実行する（c.f. 動的言語，静的言語）\n",
    "\n",
    "### example 1 (Pythonとご挨拶)\n",
    "print($something$) : $something$を表示する\n",
    "\n",
    "```python\n",
    "print(\"Hello Python!\")\n",
    "```\n",
    "\n",
    "\\# が行頭に書かれている部分はPythonでは*コメント*といい，Pythonでは"
   ]
  },
  {
   "cell_type": "code",
   "execution_count": 10,
   "metadata": {
    "collapsed": true
   },
   "outputs": [],
   "source": [
    "#　example 1\n"
   ]
  },
  {
   "cell_type": "markdown",
   "metadata": {},
   "source": [
    "***\n",
    "## データ型\n",
    "\n",
    "Python では　全てが**オブジェクト**（データを入れてある箱のようなもの）として定義されており，それぞれ次のような**型**と呼ばれるデータの種類が割り当てられている\n",
    "* **ブール値**(真，偽)\n",
    "* **整数**（1,10,128など）\n",
    "* **浮動小数点数**（小数点以下がある数値3.141592など） （c.f. 指数表現）\n",
    "* **文字列**（\"Hello World\"など） \n",
    "\n",
    "そしてPythonなどのプログラミング言語では**変数**と呼ばれるコンピュータのメモリの中にある値を指す名前があり，=を使って変数に値を代入できる．\n",
    "\n",
    "ただし，代入したとしても値がコピーされるわけではない事に注意．あくまでオブジェクトに名前を付ける付箋のようなものにすぎない．\n",
    "\n",
    "<img src=\"object.png\">\n",
    "\n",
    "\n",
    "### example 2 （Pythonのオブジェクトの型）\n",
    "```python\n",
    "print(type(True))\n",
    "x = True\n",
    "print(\"x =\", x)\n",
    "```\n",
    "```python\n",
    "print(type(128))\n",
    "x = 128\n",
    "print(\"x =\", x)\n",
    "```\n",
    "```python\n",
    "print(type(3.141592))\n",
    "x = 3.141592\n",
    "print(\"x =\", x)\n",
    "```\n",
    "```python\n",
    "print(type(\"Hello World!\"))\n",
    "```"
   ]
  },
  {
   "cell_type": "code",
   "execution_count": 2,
   "metadata": {
    "collapsed": true
   },
   "outputs": [],
   "source": [
    "# example 2\n"
   ]
  },
  {
   "cell_type": "markdown",
   "metadata": {},
   "source": [
    "***\n",
    "## 四則演算\n",
    "\n",
    "Pythonの整数型や浮動小数点数型に対しては四則演算などが定義されており，Pythonをあたかも電卓のようにも使うことができる．\n",
    "\n",
    "| 演算子 |  意味 | 例 |\n",
    "| :--: | :--:| :--: |\n",
    "| + | 足し算 | 2 + 3 |\n",
    "| - | 引き算 | 3.1 - 2.5 | \n",
    "| * | 掛け算 | 2 * 3 |\n",
    "| / | 割り算 | 3.0 / 2.0 |\n",
    "| // | 割り算（切り捨て） | 3.0 // 2.0 |\n",
    "| % | 割り算の余り | 3.0 % 2.0 |\n",
    "| ** | べき乗 | 3 ** 2 |\n",
    "\n",
    "### example 3 （簡単な計算）\n",
    "```python\n",
    "x = 3 + (2+5) * 4 - 3**2\n",
    "print(x)\n",
    "```"
   ]
  },
  {
   "cell_type": "code",
   "execution_count": 3,
   "metadata": {
    "collapsed": true
   },
   "outputs": [],
   "source": [
    "# example 3\n"
   ]
  },
  {
   "cell_type": "markdown",
   "metadata": {},
   "source": [
    "***\n",
    "### Exercise 1\n",
    "\n",
    "次を計算してみよう\n",
    "\n",
    "1.  $5 \\times (2+1) - 2^3 $\n",
    "2.  $3.1 \\times 2 + 1.0 + \\frac{6}{3}$"
   ]
  },
  {
   "cell_type": "code",
   "execution_count": 4,
   "metadata": {
    "collapsed": true
   },
   "outputs": [],
   "source": [
    "# exercise 1 解答\n"
   ]
  },
  {
   "cell_type": "markdown",
   "metadata": {},
   "source": [
    "***\n",
    "## リスト・タプル・辞書・集合\n",
    "\n",
    "Pythonではオブジェクトの基本データ型（ブール値・整数・浮動小数点数・文字列）の他に，**リスト**・**タプル**・**辞書**・**集合**といったデータ構造というものがある．\n",
    "ここでは特にリストとタプルについて記す．それ以外の辞書・集合などについては各自調べてみてください．\n",
    "\n",
    "リストとタプルは**シーケンス構造**を持っており，０個以上の要素を持つことができ，特にその要素はリストやタプルも含む**全てのオブジェクト**が可能\n",
    "\n",
    "リストとタプルの大きな違いは，リストはミュータブル（書き換え可能）で，タプルはイミュータブル（書き換え不可能）であることである．\n",
    "その他にも\n",
    "* タプルは消費スペースが小さい\n",
    "* タプルの要素は誤って書き換える心配がない\n",
    "\n",
    "などの違いがある．\n",
    "\n",
    "### example 4 (リスト)\n",
    "1. リストの作成\n",
    "\n",
    "    1,2, \"test\", [5, []] からなるリストを作る\n",
    "```python\n",
    "lst = [1, 2, \"test\", [5, []]]\n",
    "```\n",
    "2. リストから要素の取り出し\n",
    "\n",
    "    lst[$index$] : $index$番目の要素を参照(ただし，$index$は0からスタート,負の値は逆順)\n",
    "```python\n",
    "print(lst[0])\n",
    "print(lst[1])\n",
    "print(lst[2])\n",
    "print(lst[3])\n",
    "print(lst[-1])\n",
    "print(lst[1:3])\n",
    "```\n",
    "\n",
    "3. リストの要素の書き換え\n",
    "```python\n",
    "lst[2] = 0\n",
    "lst[3] = 1.5\n",
    "print(lst)\n",
    "```\n",
    "\n",
    "4. その他の操作\n",
    "\n",
    "    4.1. リストの長さ\n",
    "    \n",
    "    　　len($list$) : $list$の長さ（要素数）を取り出す\n",
    "```python\n",
    "lngth = len(lst)\n",
    "print(lngth)\n",
    "```\n",
    "    4.2. リストの並べ替え\n",
    "    \n",
    "    　　$list$.sort() : $list$の要素を昇順に並べ換える\n",
    "```python\n",
    "lst=[3,1,4,1,5,9]\n",
    "lst.sort()\n",
    "print(lst)\n",
    "```"
   ]
  },
  {
   "cell_type": "code",
   "execution_count": 12,
   "metadata": {},
   "outputs": [
    {
     "name": "stdout",
     "output_type": "stream",
     "text": [
      "[1, 2, 3]\n"
     ]
    }
   ],
   "source": [
    "# example 4\n",
    "lst = [1,2,3]\n",
    "print(lst)"
   ]
  },
  {
   "cell_type": "markdown",
   "metadata": {},
   "source": [
    "***\n",
    "***\n",
    "## Pythonのコードの構造\n",
    "\n",
    "Pythonなどのプログラミング言語には様々なデータ構造があるが，それらのデータを処理するためのコードの構造がある．ここから先はそれを見ていく．\n",
    "\n",
    "### 条件分岐\n",
    "\n",
    "ここではプログラムの構造の１つ，**条件分岐**について見る．条件分岐とはある条件が成り立つときにはある処理を行い，成り立たないときは別の処理を行うというものである．例えば，朝学校に向かう際に雨が降っていれば傘を持っていき，降っていなければ傘を持っていかないというものが挙げられる．\n",
    "\n",
    "#### example 5 (条件分岐処理)\n",
    "if $condition$:\n",
    "\n",
    "    処理1\n",
    "else:\n",
    "\n",
    "    処理2\n",
    "    \n",
    "$condition$が真(True)ならば処理１，そうでなければ処理２を実行\n",
    "\n",
    "※ifとelseの行末にはコロン(：)を入れて改行して，次の行はインデントを下げて(tabキー)処理を記述する\n",
    "\n",
    "```python\n",
    "rain = True\n",
    "if rain : \n",
    "    print(\"It's rainy today...\")\n",
    "else:\n",
    "    print(\"It's not rainy today!\")\n",
    "```\n",
    "\n",
    "``` python\n",
    "rain = False\n",
    "if rain : \n",
    "    print(\"It's rainy today...\")\n",
    "else:\n",
    "    print(\"It's not rainy today!\")\n",
    "```"
   ]
  },
  {
   "cell_type": "code",
   "execution_count": 6,
   "metadata": {
    "collapsed": true
   },
   "outputs": [],
   "source": [
    "# example 5\n",
    "rain = True \n",
    "fi"
   ]
  },
  {
   "cell_type": "markdown",
   "metadata": {},
   "source": [
    "もちろん，３つ以上の条件分岐も可能．\n",
    "\n",
    "#### example 6 (複数の条件分岐処理)\n",
    "```python\n",
    "rain = False\n",
    "cloudy = True\n",
    "if rain : \n",
    "    print(\"It's rainy today...\")\n",
    "elif cloudy:\n",
    "    print(\"It looks like rain...\")\n",
    "else:\n",
    "    print(\"It's not rainy today!\")\n",
    "```"
   ]
  },
  {
   "cell_type": "code",
   "execution_count": 7,
   "metadata": {
    "collapsed": true
   },
   "outputs": [],
   "source": [
    "# example 6\n"
   ]
  },
  {
   "cell_type": "markdown",
   "metadata": {},
   "source": [
    "***\n",
    "### Exercise 2\n",
    "\n",
    "xが与えられたときにそれが100より大きいかどうかを判定するプログラムを作ってみよう\n",
    "\n",
    "| 演算子 | 意味 |\n",
    "| :--: | :--:|\n",
    "| == | 等しい |\n",
    "| != | 等しくない |\n",
    "| < | より小さい |\n",
    "| <= | 以下 |\n",
    "| > | より大きい |\n",
    "| >= | 以上 |\n",
    "| in | 要素になっている |"
   ]
  },
  {
   "cell_type": "code",
   "execution_count": 8,
   "metadata": {
    "collapsed": true
   },
   "outputs": [],
   "source": [
    "# Exercise 2 解答\n"
   ]
  },
  {
   "cell_type": "markdown",
   "metadata": {},
   "source": [
    "***\n",
    "### Exercise 3\n",
    "xが与えられたときに，それが偶数であれば\"even\"，奇数であれば\"odd\"であるという偶奇判定プログラムを作ってみよう"
   ]
  },
  {
   "cell_type": "code",
   "execution_count": 9,
   "metadata": {
    "collapsed": true
   },
   "outputs": [],
   "source": [
    "# Exercise 3 解答"
   ]
  },
  {
   "cell_type": "markdown",
   "metadata": {},
   "source": [
    "***\n",
    "### 反復処理 while\n",
    "\n",
    "ここではプログラムの構造の１つ，反復処理について見る．それを実現する１つの方法は**while**を使った構文である．whileは条件が満たされている限り，特定の処理を繰り返す構文である．\n",
    "\n",
    "#### example 7 (whileによる繰り返し)\n",
    "\n",
    "while $condition$:\n",
    "\n",
    "    処理\n",
    "\n",
    "$condition$が真(True)である限り処理を繰り返す\n",
    "\n",
    "※whileの行末にはコロン(：)を入れて改行して，次の行はインデントを下げて(tabキー)処理を記述する\n",
    "\n",
    "```python\n",
    "counter = 0\n",
    "while counter<=5:\n",
    "    print(counter)\n",
    "    counter += 1\n",
    "```"
   ]
  },
  {
   "cell_type": "code",
   "execution_count": 10,
   "metadata": {
    "collapsed": true
   },
   "outputs": [],
   "source": [
    "# example 7\n"
   ]
  },
  {
   "cell_type": "markdown",
   "metadata": {},
   "source": [
    "***\n",
    "### 反復処理 for\n",
    "\n",
    "反復処理についてwhileの他に**for**を使った構文がある． forを使えば，イテレータと呼ばれる反復ごとにリストなどから１つずつ要素を取り出して返すものを用いて反復処理を行う．\n",
    "\n",
    "#### example 8 (forによる繰り返し)\n",
    "\n",
    "for $variable$ in $list$:\n",
    "\n",
    "    処理\n",
    "    \n",
    "$variable$に$list$の各要素を順番に代入しながら，処理を行う\n",
    "\n",
    "※forの行末にはコロン(：)を入れて改行して，次の行はインデントを下げて(tabキー)処理を記述する\n",
    "\n",
    "```python\n",
    "for string in [\"Hi, \", \"I am Kebin.\", \"What is your name?\"]:\n",
    "    print(string)\n",
    "```\n",
    "```python\n",
    "for i in range(6): # 0,1,2,3,4,5の繰り返し\n",
    "    print(i)\n",
    "```"
   ]
  },
  {
   "cell_type": "code",
   "execution_count": 11,
   "metadata": {
    "collapsed": true
   },
   "outputs": [],
   "source": [
    "# example 8\n"
   ]
  },
  {
   "cell_type": "markdown",
   "metadata": {},
   "source": [
    "***\n",
    "### Exercise 4\n",
    "1~10までの総和を求めるプログラムを作ってみよう"
   ]
  },
  {
   "cell_type": "code",
   "execution_count": 12,
   "metadata": {
    "collapsed": true
   },
   "outputs": [],
   "source": [
    "# Exercise 4 解答\n"
   ]
  },
  {
   "cell_type": "markdown",
   "metadata": {},
   "source": [
    "***\n",
    "### リスト内包表記\n",
    "\n",
    "リストを作る際には**for**を用いたリスト内包表記が便利である\n",
    "\n",
    "#### example 9\n",
    "```python\n",
    "lst = [i for i in range(6)]\n",
    "print(lst)\n",
    "```"
   ]
  },
  {
   "cell_type": "code",
   "execution_count": 13,
   "metadata": {
    "collapsed": true
   },
   "outputs": [],
   "source": [
    "# example 9\n"
   ]
  },
  {
   "cell_type": "markdown",
   "metadata": {},
   "source": [
    "***\n",
    "***\n",
    "\n",
    "## 関数\n",
    "\n",
    "これまでの全てのPythonコードは全て小さな断片であったが，大きなコードにする際にはコードが管理できる部品にまとめることが必要．\n",
    "\n",
    "その１つの方法としては**関数**がある\n",
    "\n",
    "関数とは，名前の着いたコードで，他のコードからは切り離されているものである．任意の型，個数の**引数**を取り，任意の型，個数の結果を出力する．\n",
    "\n",
    "### example 10\n",
    "```python\n",
    "lst = [1,2,3,4,5]\n",
    "s = sum(lst) \n",
    "print(s)\n",
    "```\n",
    "sum($list$)：$list$の要素の和をとる関数\n"
   ]
  },
  {
   "cell_type": "code",
   "execution_count": 14,
   "metadata": {
    "collapsed": true
   },
   "outputs": [],
   "source": [
    "# example 10\n"
   ]
  },
  {
   "cell_type": "markdown",
   "metadata": {},
   "source": [
    "***\n",
    "もちろん，自作の関数を作ることも可能である\n",
    "\n",
    "### example 11\n",
    "\n",
    "def $function$($arguments$):\n",
    "    \n",
    "    処理\n",
    "    \n",
    "    return $value$\n",
    "\n",
    "$arguments$を引数にとり，処理を行なった後，$value$を返す関数$function$を定義する\n",
    "\n",
    "```python\n",
    "def my_add(x,y):\n",
    "    return x+y\n",
    "a=3\n",
    "b=4\n",
    "print(a,\"+\",b,\"=\",my_add(a,b))\n",
    "```"
   ]
  },
  {
   "cell_type": "code",
   "execution_count": 15,
   "metadata": {
    "collapsed": true
   },
   "outputs": [],
   "source": [
    "# example 11\n"
   ]
  },
  {
   "cell_type": "markdown",
   "metadata": {},
   "source": [
    "***\n",
    "### Exercise 5\n",
    "x, yの２つの引数が与えられたときに，そのうち大きい方を返す関数を作ってみよう"
   ]
  },
  {
   "cell_type": "code",
   "execution_count": 16,
   "metadata": {
    "collapsed": true
   },
   "outputs": [],
   "source": [
    "# Exercise 5 解答"
   ]
  },
  {
   "cell_type": "markdown",
   "metadata": {},
   "source": [
    "***\n",
    "***\n",
    "## Numpy （数値計算ライブラリ）\n",
    "\n",
    "Pythonでは多くのライブラリが提供されているが，ここではその中でも数値計算の関数が集められたNumpyについて見ていくことにする\n",
    "\n",
    "Numpyでは\n",
    "\n",
    "* 配列と呼ばれる行列やベクトルを扱うためのデータ構造；\n",
    "* 乱数（ランダムに生成される数）を扱うための関数；\n",
    "* 統計的な処理を施す関数；\n",
    "\n",
    "などが提供されている．\n",
    "\n",
    "Numpy を使うためにはまず最初にimport，つまり\n",
    "```python\n",
    "import numpy\n",
    "```\n",
    "もしくは，名前を省略して使うために\n",
    "```python\n",
    "import numpy as np\n",
    "```\n",
    "を実行する必要がある．\n",
    "\n",
    "また，Numpyの中に含まれている関数は\n",
    "```python\n",
    "numpy.function(...)\n",
    "```\n",
    "もしくは，\n",
    "```python\n",
    "np.function(...)\n",
    "```\n",
    "のように利用する．\n",
    "\n",
    "### example 12\n",
    "```python\n",
    "import numpy as np\n",
    "d1 = np.array([1,2,3])\n",
    "d2 = np.array([4,5,6])\n",
    "print(d1,\"+\",d2,\"=\",d1+d2)\n",
    "```"
   ]
  },
  {
   "cell_type": "code",
   "execution_count": 17,
   "metadata": {
    "collapsed": true
   },
   "outputs": [],
   "source": [
    "# example 12 \n"
   ]
  },
  {
   "cell_type": "markdown",
   "metadata": {},
   "source": [
    "***\n",
    "***\n",
    "\n",
    "## Matplotlib （グラフ描画ライブラリ）\n",
    "\n",
    "MatplotlibはPythonおよびNumPyのためのグラフ描画ライブラリであり，グラフなどを描画するための関数などが集められている\n",
    "\n",
    "Matplotlibを使うためにはまず最初にimport，つまり\n",
    "```python\n",
    "import matplotlib.pyplot as plt\n",
    "```\n",
    "を実行する必要がある．\n",
    "\n",
    "また，Matplotlibの中に含まれている関数は\n",
    "```python\n",
    "plt.function(...)\n",
    "```\n",
    "のように利用する．\n",
    "\n",
    "ここでは特に深入りはしないが，その一例を示す．\n",
    "\n",
    "### example 13\n",
    "$y = 3 x$のグラフを$-1 \\leq x \\leq 1$の範囲で描く\n",
    "```python\n",
    "import matplotlib.pyplot as plt\n",
    "x = np.linspace(-1,1,1000) # -1~1の区間を1000等分\n",
    "y = 3*x # yにxの各要素を3倍した値を代入\n",
    "plt.plot(x,y) # xをX軸に，yをY軸にしたグラフをプロット\n",
    "plt.xlabel(\"x\") # X軸名\n",
    "plt.ylabel(\"y\") # Y軸名\n",
    "plt.show() # グラフの表示\n",
    "```\n"
   ]
  },
  {
   "cell_type": "code",
   "execution_count": 13,
   "metadata": {},
   "outputs": [
    {
     "data": {
      "image/png": "[encoded data removed]",
      "text/plain": [
       "<matplotlib.figure.Figure at 0x102ef3ac8>"
      ]
     },
     "metadata": {},
     "output_type": "display_data"
    }
   ],
   "source": [
    "# example 13\n",
    "import numpy as np\n",
    "import matplotlib.pyplot as plt\n",
    "x = np.linspace(-1,1,1000) # -1~1の区間を1000等分\n",
    "y = 3*x # yにxの各要素を3倍した値を代入\n",
    "plt.plot(x,y) # xをX軸に，yをY軸にしたグラフをプロット\n",
    "plt.xlabel(\"x\") # X軸名\n",
    "plt.ylabel(\"y\") # Y軸名\n",
    "plt.show() # グラフの表示"
   ]
  },
  {
   "cell_type": "markdown",
   "metadata": {},
   "source": [
    "***\n",
    "### Exercise 6\n",
    "$y=x^2$のグラフを$-1\\leq x \\leq 1$の範囲で描いてみよう"
   ]
  },
  {
   "cell_type": "code",
   "execution_count": 19,
   "metadata": {
    "collapsed": true
   },
   "outputs": [],
   "source": [
    "# Exercise 6 解答"
   ]
  },
  {
   "cell_type": "markdown",
   "metadata": {},
   "source": [
    "***\n",
    "Numpy と Matplotlibを組み合わせた例\n",
    "\n",
    "### example 14\n",
    "平均160cm, 分散100cm$^2$の正規分布に従う身長を1000人分生成し，そのヒストグラムを作り，画像を保存する．\n",
    "```python\n",
    "height= 10*np.random.randn(1000)+160 # np.random.randn(1000) : 1000個の正規分布に従う乱数を発生\n",
    "plt.hist(height) # heightの頻度からhistogramを作成\n",
    "plt.xlabel(\"height[cm]\")\n",
    "plt.ylabel(\"freq.\")\n",
    "plt.savefig(\"test.jpg\") # test.jpgという名前で画像を保存\n",
    "plt.clf()\n",
    "```"
   ]
  },
  {
   "cell_type": "code",
   "execution_count": 20,
   "metadata": {
    "collapsed": true
   },
   "outputs": [],
   "source": [
    "# example 14\n"
   ]
  }
 ],
 "metadata": {
  "kernelspec": {
   "display_name": "Python 3",
   "language": "python",
   "name": "python3"
  },
  "language_info": {
   "codemirror_mode": {
    "name": "ipython",
    "version": 3
   },
   "file_extension": ".py",
   "mimetype": "text/x-python",
   "name": "python",
   "nbconvert_exporter": "python",
   "pygments_lexer": "ipython3",
   "version": "3.5.3"
  }
 },
 "nbformat": 4,
 "nbformat_minor": 2
}
