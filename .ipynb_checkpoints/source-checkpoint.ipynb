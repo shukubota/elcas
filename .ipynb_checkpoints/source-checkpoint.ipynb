{
 "cells": [
  {
   "cell_type": "code",
   "execution_count": 1,
   "metadata": {
    "collapsed": true
   },
   "outputs": [],
   "source": [
    "# ~ 最初に唱えるおまじない ~ \n",
    "#  packagesのimport\n",
    "\n",
    "import numpy as np\n",
    "import matplotlib.pyplot as plt\n",
    "from numpy.random import *\n",
    "% matplotlib inline"
   ]
  },
  {
   "cell_type": "code",
   "execution_count": 2,
   "metadata": {},
   "outputs": [
    {
     "data": {
      "image/png": "[encoded data removed]",
      "text/plain": [
       "<matplotlib.figure.Figure at 0x10c02c160>"
      ]
     },
     "metadata": {},
     "output_type": "display_data"
    },
    {
     "data": {
      "image/png": "[encoded data removed]",
      "text/plain": [
       "<matplotlib.figure.Figure at 0x1112eb160>"
      ]
     },
     "metadata": {},
     "output_type": "display_data"
    }
   ],
   "source": [
    "#テスト関数　:指数関数と対数グラフの理解のため(シミュレーションに直接関係なし)\n",
    "def testfunc(x):\n",
    "    '''\n",
    "    testfunc(x)\n",
    "    xの(指数)関数\n",
    "    '''\n",
    "    y=x**3    #指数部分を色々変えてみる! 例えばx**4やx**(-1)\n",
    "    return y\n",
    "    \n",
    "\n",
    "def test():\n",
    "    x=np.arange(0.1,1,0.01)\n",
    "    y=testfunc(x)\n",
    "    plt.plot(x,y,label=\"y=testfunc(x)\")\n",
    "    plt.xlabel(\"x\")\n",
    "    plt.ylabel(\"y\")\n",
    "    plt.title(\"Linear Graph\")\n",
    "    plt.legend()\n",
    "    plt.show()\n",
    "    \n",
    "    \n",
    "    \n",
    "    plt.plot(x,y,label=\"y=testfunc(x)\")\n",
    "    plt.xlabel(\"x\")\n",
    "    plt.ylabel(\"y\")\n",
    "    plt.title(\"Log-Log Graph\")\n",
    "    plt.xscale(\"log\")\n",
    "    plt.yscale(\"log\")\n",
    "    plt.legend()\n",
    "    plt.show()\n",
    "    \n",
    "test()"
   ]
  },
  {
   "cell_type": "code",
   "execution_count": 3,
   "metadata": {
    "collapsed": true
   },
   "outputs": [],
   "source": [
    "# 色々計算してくれる関数達\n",
    "# 講義で学んだ内容と比較してみよう！\n",
    "\n",
    "def calc(nw,a,m,type=1): \n",
    "    '''\n",
    "    calc(calc,a,m,type=1)\n",
    "    ネットワークnwにm本のlinkを持つnodeを1個追加する関数\n",
    "    \n",
    "    parameters\n",
    "    --------\n",
    "    nw : list\n",
    "      隣接リスト:[(node1に繋がっているnodeからなるlist), (node2に繋がっているnodeからなるlist),...]\n",
    "    a : real\n",
    "      枝をつけ加える確率に対するbias\n",
    "    m : int\n",
    "      新たに追加されるnodeが持っているedgeの個数\n",
    "    type : int\n",
    "      type = 1 -> 重み付け確率\n",
    "      type = 2 -> 一様確率\n",
    "    '''\n",
    "    \n",
    "    N=len(nw) # node数\n",
    "    degrees = np.array([len(n) for n in nw]) # 各nodeの次数\n",
    "    K=degrees.sum()  # (biasも考慮に入れた)linkの本数(重複あり)\n",
    "    \n",
    "    #重み付け確率を決める\n",
    "    if type==1:\n",
    "        plist = (degrees + a) / (float(K) + N*a)\n",
    "    elif type ==2:\n",
    "        plist = np.ones(N) / N\n",
    "    else:\n",
    "        print(\"Error! : type\",type,\"undefined!\")\n",
    "        raise ValueError \n",
    "    \n",
    "    #linkを追加するnodeのindex番号を決める\n",
    "    index=choice(range(0,N),m,replace=False,p=plist)\n",
    "    \n",
    "    #ネットワークに新しいnodeを1個追加する\n",
    "    for i in index:\n",
    "        nw[i].append(N)\n",
    "    nw.append(sorted(list(index)))\n",
    "    \n",
    "def dist(nw,m): \n",
    "    '''\n",
    "    dist(nw)\n",
    "    ネットワーク配列nwから次数分布の配列を作る関数\n",
    "        \n",
    "    parameter\n",
    "    --------\n",
    "    nw : list\n",
    "      隣接リスト:[(node1に繋がっているnodeからなるlist), (node2に繋がっているnodeからなるlist),...]\n",
    "    m : int\n",
    "      新たに追加されるnodeが持っているedgeの個数\n",
    "    '''\n",
    "    degrees = [len(n) for n in nw] # 各nodeの次数\n",
    "    \n",
    "    x = np.arange(min(degrees),max(degrees),dtype=np.int64) # x軸：次数\n",
    "    y = np.array([degrees.count(degree) for degree in x]) # y軸：頻度\n",
    "    y=y/y.sum() # 規格化\n",
    "\n",
    "    y2=theofunc(m,a,x)\n",
    "    \n",
    "    np.savetxt(\"x.dat\",x) # x.npyには次数の列が入っている\n",
    "    np.savetxt(\"y.dat\",y) # y.npyには数値シミュレーションした各次数の頻度が入っている\n",
    "    np.savetxt(\"y2.dat\",y2) # y2.npyには理論値の各次数の頻度が入っている\n",
    "\n",
    "def comgra(m): #\n",
    "    '''\n",
    "    comgra(m)\n",
    "    次数mの完全グラフを作る関数\n",
    "    \n",
    "    parameter\n",
    "    --------\n",
    "    m : int\n",
    "      完全グラフの次数\n",
    "    '''\n",
    "    nw=[[j for j in range(m) if i != j ] for i in range(m)]\n",
    "    return nw"
   ]
  },
  {
   "cell_type": "code",
   "execution_count": 4,
   "metadata": {
    "collapsed": true
   },
   "outputs": [],
   "source": [
    "# 理論値：自分で計算した結果をプログラムにしてみよう！\n",
    "def theofunc(m,a,x):\n",
    "    '''\n",
    "    theofunc(m,a,x)\n",
    "    次数分布の理論値\n",
    "    \n",
    "    parameters\n",
    "    --------\n",
    "    m : int \n",
    "      新たに付け加わるnodeが持つ枝の本数\n",
    "    a : real\n",
    "      重み確率に対するbias\n",
    "    x : int or real\n",
    "      次数\n",
    "    '''\n",
    "    func=2.*m*(m+1)/(x*x*x)    # <======== 手で計算した理論値の関数を入れてみよう！\n",
    "    return func"
   ]
  },
  {
   "cell_type": "code",
   "execution_count": 5,
   "metadata": {},
   "outputs": [
    {
     "name": "stdout",
     "output_type": "stream",
     "text": [
      "CPU times: user 27.1 ms, sys: 6.38 ms, total: 33.5 ms\n",
      "Wall time: 32.1 ms\n"
     ]
    }
   ],
   "source": [
    "%%time\n",
    "\n",
    "#########################################\n",
    "#シミュレーションの設定(次数mの完全グラフを初期状態にとる)\n",
    "#########################################\n",
    "\n",
    "# パラメータ　： ここを変えてみて結果がどう変わるか見てみよう！\n",
    "m=4 # 追加するnodeの持つlinkの本数 \n",
    "Nmax=100 # 追加するnodeの個数\n",
    "a=0. # 重み付け確率を計算する時のパラメータ\n",
    "\n",
    "# 初期状態を生成する\n",
    "# node数mの完全グラフを作成\n",
    "nw=comgra(m)\n",
    "\n",
    "#################\n",
    "#ネットワークを成長させる\n",
    "#################\n",
    "# Nmax回m本の枝を持つnodeを追加する\n",
    "for j in range(0,Nmax):\n",
    "    # 関数calcでネットワークnwにnodeを追加していく\n",
    "    # 3個目の引数(重み付け確率でシミュレーション:type=1,一様確率でシミュレーション:type=2)\n",
    "    calc(nw,a,m,type=1) # typeの値を変えてみよう！\n",
    "\n",
    "np.save('nwdata.npy',nw)\n",
    "\n",
    "############\n",
    "#分布を計算する\n",
    "############\n",
    "dist(nw,m)\n",
    "# x.npyには次数の列が入っている\n",
    "# y.npyには数値シミュレーションした各次数の頻度が入っている\n",
    "# y2.npyには理論値の各次数の頻度が入っている"
   ]
  },
  {
   "cell_type": "code",
   "execution_count": 6,
   "metadata": {},
   "outputs": [
    {
     "data": {
      "image/png": "[encoded data removed]",
      "text/plain": [
       "<matplotlib.figure.Figure at 0x1114b6b00>"
      ]
     },
     "metadata": {},
     "output_type": "display_data"
    }
   ],
   "source": [
    "###############\n",
    "#分布をplotしてみよう！\n",
    "###############\n",
    "\n",
    "# シミュレーション結果\n",
    "x= np.loadtxt(\"x.dat\")# x.npyには次数の列が入っている\n",
    "y= np.loadtxt(\"y.dat\")# y.npyには数値シミュレーションした各次数の頻度が入っている\n",
    "plt.plot(x,y,\"ro\",label=\"simulation\") # シミュレーション結果のplot\n",
    "\n",
    "# 理論値 (表示したくない場合は行頭に#を付ければ無視されます...´･_･`)\n",
    "y2=np.loadtxt(\"y2.dat\")# y2.npyには理論値の各次数の頻度が入っている\n",
    "plt.plot(x,y2,\"b-\",label=\"theory\")\n",
    "\n",
    "# 表示に関するオプション\n",
    "plt.xlabel(r\"degree $k$\")\n",
    "plt.ylabel(r\"frequency $P(k)$\")\n",
    "plt.xlim([1,x[y>0].max()]) # x軸の表示範囲 (1から最大次数まで)\n",
    "plt.ylim([1/Nmax,y.max()]) # y軸の表示範囲\n",
    "plt.xscale(\"log\")\n",
    "plt.yscale(\"log\")\n",
    "plt.legend()\n",
    "\n",
    "plt.show() # 表示！！\n",
    "#plt.savefig(\"degree_dist.png\")\n",
    "#plt.clf()"
   ]
  },
  {
   "cell_type": "code",
   "execution_count": null,
   "metadata": {
    "collapsed": true
   },
   "outputs": [],
   "source": []
  }
 ],
 "metadata": {
  "kernelspec": {
   "display_name": "Python 3",
   "language": "python",
   "name": "python3"
  },
  "language_info": {
   "codemirror_mode": {
    "name": "ipython",
    "version": 3
   },
   "file_extension": ".py",
   "mimetype": "text/x-python",
   "name": "python",
   "nbconvert_exporter": "python",
   "pygments_lexer": "ipython3",
   "version": "3.6.2"
  }
 },
 "nbformat": 4,
 "nbformat_minor": 1
}
