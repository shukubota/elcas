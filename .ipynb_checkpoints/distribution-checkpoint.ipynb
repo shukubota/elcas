{
 "cells": [
  {
   "cell_type": "code",
   "execution_count": 2,
   "metadata": {
    "collapsed": true
   },
   "outputs": [],
   "source": [
    "#  packagesのimport\n",
    "import numpy as np\n",
    "import matplotlib.pyplot as plt\n",
    "from numpy.random import *\n",
    "import time\n",
    "% matplotlib inline"
   ]
  },
  {
   "cell_type": "code",
   "execution_count": 3,
   "metadata": {
    "collapsed": false
   },
   "outputs": [],
   "source": [
    "def calc(nw,a,m,type=1): \n",
    "    '''\n",
    "    calc(calc,a,m,type=1)\n",
    "    ネットワークnwにm本のlinkを持つnodeを1個追加する関数\n",
    "    \n",
    "    parameters\n",
    "    --------\n",
    "    nw : list\n",
    "      隣接リスト:[(node1に繋がっているnodeからなるlist), (node2に繋がっているnodeからなるlist),...]\n",
    "    a : real\n",
    "      枝をつけ加える確率に対するbias\n",
    "    m : int\n",
    "      新たに追加されるnodeが持っているedgeの個数\n",
    "    type : int\n",
    "      type = 1 -> 重み付け確率\n",
    "      type = 2 -> 一様確率\n",
    "    '''\n",
    "    #node数\n",
    "    N=len(nw)\n",
    "    \n",
    "    #link数\n",
    "    K=0\n",
    "    for i in range(0,len(nw)):\n",
    "        K+=len(nw[i])+a\n",
    "    \n",
    "    #重み付け確率を決める\n",
    "    plist=[]\n",
    "    if type==1:\n",
    "        for i in range(0,len(nw)):\n",
    "            plist.append((len(nw[i])+a)/float(K))\n",
    "    else:\n",
    "        for i in range(0,len(nw)):\n",
    "            plist.append(1./len(nw))\n",
    "    \n",
    "    #linkを追加するnodeのindex番号を決める\n",
    "    index=choice(range(0,N),m,replace=False,p=plist)\n",
    "    \n",
    "    #ネットワークに新しいnodeを1個追加する\n",
    "    for i in index:\n",
    "        nw[i].append(N)\n",
    "    \n",
    "    nw.append(sorted(list(index)))\n",
    "    \n",
    "def dist(nw): \n",
    "    '''\n",
    "    dist(nw)\n",
    "    ネットワーク配列nwから次数分布の配列を作る関数\n",
    "        \n",
    "    parameter\n",
    "    --------\n",
    "    nw : list\n",
    "      隣接リスト:[(node1に繋がっているnodeからなるlist), (node2に繋がっているnodeからなるlist),...]\n",
    "    '''\n",
    "    x=range(m,Nmax)\n",
    "    x=np.array(x)\n",
    "    y=[]\n",
    "    for i in x:\n",
    "        count=0\n",
    "        for j in range(0,len(nw)):\n",
    "            if len(nw[j])==i:\n",
    "                count+=1\n",
    "        y.append(count)\n",
    "    y=np.array(y)\n",
    "    b=float(len(nw))\n",
    "    y=y/b\n",
    "\n",
    "    x2=x\n",
    "\n",
    "    y2=theofunc(m,a,x)\n",
    "\n",
    "    np.save(\"x.npy\",x)\n",
    "    np.save(\"y.npy\",y)\n",
    "    np.save(\"y2.npy\",y2)\n",
    "\n",
    "\n",
    "def comgra(m): #\n",
    "    '''\n",
    "    comgra(m)\n",
    "    次数mの完全グラフを作る関数\n",
    "    \n",
    "    parameter\n",
    "    --------\n",
    "    m : int\n",
    "      完全グラフの次数\n",
    "    '''\n",
    "    nw=[]\n",
    "\n",
    "    for i in range(0,m):\n",
    "        nwdum=[]\n",
    "        for j in range(0,m):\n",
    "            if i!=j:\n",
    "                nwdum.append(j)\n",
    "        nw.append(nwdum)\n",
    "    return nw"
   ]
  },
  {
   "cell_type": "code",
   "execution_count": 4,
   "metadata": {
    "collapsed": false
   },
   "outputs": [],
   "source": [
    "# 理論値：自分で計算してみよう！\n",
    "def theofunc(m,a,x):\n",
    "    '''\n",
    "    theofunc(m,a,x)\n",
    "    次数分布の理論値\n",
    "    \n",
    "    parameters\n",
    "    --------\n",
    "    m : int \n",
    "      新たに付け加わるnodeが持つ枝の本数\n",
    "    a : real\n",
    "      重み確率に対するbias\n",
    "    x : int or real\n",
    "      次数\n",
    "    '''\n",
    "    func=2.*m*(m+1)/(x*x*x)    # <======== 手で計算した理論値の関数を入れてみよう！\n",
    "    return func"
   ]
  },
  {
   "cell_type": "code",
   "execution_count": 5,
   "metadata": {
    "collapsed": false
   },
   "outputs": [
    {
     "name": "stdout",
     "output_type": "stream",
     "text": [
      "elapsed time 59.77800107002258\n"
     ]
    }
   ],
   "source": [
    "start=time.time()\n",
    "\n",
    "####################\n",
    "#シミュレーションの設定(次数mの完全グラフを初期状態にとる)\n",
    "###################\n",
    "\n",
    "# パラメータ　： ここを変えてみて結果がどう変わるか見てみよう！\n",
    "m=4  # 追加するnodeの持つlinkの本数 \n",
    "Nmax=10000 # nodeの最大値\n",
    "a=0. # 重み付け確率を計算する時のパラメータ\n",
    "\n",
    "#node数mの完全グラフを作成\n",
    "nw=comgra(m)\n",
    "######################\n",
    "#####################\n",
    "\n",
    "#####################\n",
    "#ネットワークを成長させる\n",
    "####################\n",
    "#Nmax回m本の枝を持つnodeを追加する\n",
    "for j in range(0,Nmax):\n",
    "    #関数calcでネットワークnwにnodeを追加していく\n",
    "    #3個目の引数(重み付け確率でシミュレーション:1,一様確率でシミュレーション:2)\n",
    "    calc(nw,a,m,1) #<===============3個目の引数だけ変えて良い\n",
    "\n",
    "np.save(\"nwdata.npy\",nw)\n",
    "\n",
    "#分布を計算する\n",
    "dist(nw)\n",
    "#print nw\n",
    "flag=[\"scalefree\"]\n",
    "np.save(\"flag.npy\",flag)\n",
    "\n",
    "elapsed_time=time.time()-start\n",
    "print(\"elapsed time\",elapsed_time)"
   ]
  },
  {
   "cell_type": "code",
   "execution_count": 6,
   "metadata": {
    "collapsed": false
   },
   "outputs": [
    {
     "name": "stdout",
     "output_type": "stream",
     "text": [
      "[ 0.32956817  0.19482207  0.1222511  ...,  0.          0.          0.        ]\n"
     ]
    },
    {
     "data": {
      "image/png": "[encoded data removed]",
      "text/plain": [
       "<matplotlib.figure.Figure at 0x114b096d8>"
      ]
     },
     "metadata": {},
     "output_type": "display_data"
    }
   ],
   "source": [
    "###############\n",
    "#分布をplotしてみよう！\n",
    "###############\n",
    "\n",
    "# シミュレーション結果\n",
    "x= np.load(\"x.npy\")# x.npyには次数の列が入っている\n",
    "y= np.load(\"y.npy\")# y.npyには数値シミュレーションした各次数の頻度が入っている\n",
    "plt.plot(x,y,\"ro\",label=\"simulation\") # シミュレーション結果のplot\n",
    "# 理論値 (表示したくない場合は行頭に#を付ければ無視されます...´･_･`)\n",
    "y2=np.load(\"y2.npy\")# y2.npyには理論値の各次数の頻度が入っている\n",
    "plt.plot(x,y2,\"b-\",label=\"theory\")\n",
    "\n",
    "print(y)\n",
    "\n",
    "# 表示に関するオプション\n",
    "plt.xlabel(r\"degree $k$\")\n",
    "plt.ylabel(r\"frequency $P(k)$\")\n",
    "plt.xlim([1,x[y>0].max()])\n",
    "plt.ylim([1/Nmax,y.max()])\n",
    "plt.xscale(\"log\")\n",
    "plt.yscale(\"log\")\n",
    "plt.legend()\n",
    "\n",
    "plt.show() # 表示！！"
   ]
  },
  {
   "cell_type": "code",
   "execution_count": null,
   "metadata": {
    "collapsed": true
   },
   "outputs": [],
   "source": []
  }
 ],
 "metadata": {
  "kernelspec": {
   "display_name": "Python 3",
   "language": "python",
   "name": "python3"
  },
  "language_info": {
   "codemirror_mode": {
    "name": "ipython",
    "version": 3
   },
   "file_extension": ".py",
   "mimetype": "text/x-python",
   "name": "python",
   "nbconvert_exporter": "python",
   "pygments_lexer": "ipython3",
   "version": "3.5.4"
  }
 },
 "nbformat": 4,
 "nbformat_minor": 0
}
